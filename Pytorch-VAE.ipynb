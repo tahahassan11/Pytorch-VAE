{
 "cells": [
  {
   "cell_type": "markdown",
   "metadata": {},
   "source": [
    "## Convolutional Variational AutoEncoder (VAE)"
   ]
  },
  {
   "cell_type": "markdown",
   "metadata": {},
   "source": [
    "Step1: Importing Libraries"
   ]
  },
  {
   "cell_type": "code",
   "execution_count": 1,
   "metadata": {},
   "outputs": [
    {
     "name": "stderr",
     "output_type": "stream",
     "text": [
      "/home/taha/anaconda3/envs/shujaatplay/lib/python3.7/site-packages/tqdm/auto.py:21: TqdmWarning: IProgress not found. Please update jupyter and ipywidgets. See https://ipywidgets.readthedocs.io/en/stable/user_install.html\n",
      "  from .autonotebook import tqdm as notebook_tqdm\n"
     ]
    }
   ],
   "source": [
    "import torch\n",
    "import torch.nn as nn\n",
    "import torch.optim as optim\n",
    "\n",
    "import torchvision\n",
    "import torchvision.datasets as datasets\n",
    "import torchvision.transforms as transforms\n",
    "from torch.utils.data import DataLoader\n",
    "from torchvision import datasets\n",
    "\n",
    "import matplotlib.pyplot as plt\n",
    "import numpy as np"
   ]
  },
  {
   "cell_type": "markdown",
   "metadata": {},
   "source": [
    "Step2: Select Device"
   ]
  },
  {
   "cell_type": "code",
   "execution_count": 2,
   "metadata": {},
   "outputs": [
    {
     "name": "stdout",
     "output_type": "stream",
     "text": [
      "Using cuda:0 device\n"
     ]
    }
   ],
   "source": [
    "cuda = True\n",
    "device = torch.device(\"cuda:0\" if cuda else \"cpu\")\n",
    "print(f\"Using {device} device\")"
   ]
  },
  {
   "cell_type": "markdown",
   "metadata": {},
   "source": [
    "Step3: Load Dataset"
   ]
  },
  {
   "cell_type": "code",
   "execution_count": 3,
   "metadata": {},
   "outputs": [
    {
     "name": "stdout",
     "output_type": "stream",
     "text": [
      "Files already downloaded and verified\n"
     ]
    }
   ],
   "source": [
    "# Load CIFAR-10 dataset\n",
    "transform = transforms.Compose([transforms.ToTensor(), transforms.Normalize((0.5, 0.5, 0.5), (0.5, 0.5, 0.5))])\n",
    "train_dataset = torchvision.datasets.CIFAR10(root='./data', train=True, download=True, transform=transform)\n",
    "train_loader = torch.utils.data.DataLoader(train_dataset, batch_size=256, shuffle=True)"
   ]
  },
  {
   "cell_type": "markdown",
   "metadata": {},
   "source": [
    "Step4: Defining VAE Model"
   ]
  },
  {
   "cell_type": "code",
   "execution_count": 4,
   "metadata": {},
   "outputs": [],
   "source": [
    "# Define the VAE model\n",
    "class VAE(nn.Module):\n",
    "    def __init__(self):\n",
    "        super(VAE, self).__init__()\n",
    "        \n",
    "        # Encoder layers\n",
    "        self.encoder = nn.Sequential(\n",
    "            nn.Conv2d(3, 32, kernel_size=7, stride=2, padding=3),\n",
    "            nn.BatchNorm2d(32),\n",
    "            nn.Tanh(),\n",
    "            nn.Conv2d(32, 32, kernel_size=7, stride=2, padding=3),\n",
    "            nn.BatchNorm2d(32),\n",
    "            nn.Tanh()\n",
    "        )\n",
    "        \n",
    "        self.z_mean_layer = nn.Conv2d(32, 3, kernel_size=1, stride=1, padding=0)\n",
    "        self.z_log_var_layer = nn.Conv2d(32, 3, kernel_size=1, stride=1, padding=0)\n",
    "        \n",
    "        # Decoder layers\n",
    "        self.decoder = nn.Sequential(\n",
    "            nn.ConvTranspose2d(3, 32, kernel_size=7, stride=2, padding=3, output_padding=1),\n",
    "            nn.BatchNorm2d(32),\n",
    "            nn.Tanh(),\n",
    "            nn.ConvTranspose2d(32, 32, kernel_size=7, stride=2, padding=3, output_padding=1),\n",
    "            nn.BatchNorm2d(32),\n",
    "            nn.Tanh(),\n",
    "            nn.Conv2d(32, 3, kernel_size=1, stride=1, padding=0),\n",
    "            nn.Tanh()\n",
    "        )\n",
    "        \n",
    "    def encode(self, x):\n",
    "        x = self.encoder(x)\n",
    "        z_mean = self.z_mean_layer(x)\n",
    "        z_log_var = self.z_log_var_layer(x)\n",
    "        return z_mean, z_log_var\n",
    "    \n",
    "    def reparameterize(self, z_mean, z_log_var):\n",
    "        std = torch.exp(0.5 * z_log_var)\n",
    "        eps = torch.randn_like(std)\n",
    "        return z_mean + eps * std\n",
    "    \n",
    "    def forward(self, x):\n",
    "        z_mean, z_log_var = self.encode(x)\n",
    "        z = self.reparameterize(z_mean, z_log_var)\n",
    "        x_recon = self.decoder(z)\n",
    "        return x_recon, z_mean, z_log_var"
   ]
  },
  {
   "cell_type": "markdown",
   "metadata": {},
   "source": [
    "Step5: Loss Function"
   ]
  },
  {
   "cell_type": "code",
   "execution_count": 5,
   "metadata": {},
   "outputs": [],
   "source": [
    "def vae_loss(x_recon, x, z_mean, z_log_var):\n",
    "    \n",
    "    reconstruction_loss = nn.MSELoss(reduction='mean')(x_recon, x)\n",
    "    \n",
    "    kl_divergence = 0.01 * (-0.5 * torch.mean(1 + z_log_var - z_mean.pow(2) - z_log_var.exp()))\n",
    "    return reconstruction_loss + kl_divergence"
   ]
  },
  {
   "cell_type": "markdown",
   "metadata": {},
   "source": [
    "Step6: Optimizer and Model Summary"
   ]
  },
  {
   "cell_type": "code",
   "execution_count": 6,
   "metadata": {},
   "outputs": [
    {
     "name": "stdout",
     "output_type": "stream",
     "text": [
      "VAE(\n",
      "  (encoder): Sequential(\n",
      "    (0): Conv2d(3, 32, kernel_size=(7, 7), stride=(2, 2), padding=(3, 3))\n",
      "    (1): BatchNorm2d(32, eps=1e-05, momentum=0.1, affine=True, track_running_stats=True)\n",
      "    (2): Tanh()\n",
      "    (3): Conv2d(32, 32, kernel_size=(7, 7), stride=(2, 2), padding=(3, 3))\n",
      "    (4): BatchNorm2d(32, eps=1e-05, momentum=0.1, affine=True, track_running_stats=True)\n",
      "    (5): Tanh()\n",
      "  )\n",
      "  (z_mean_layer): Conv2d(32, 3, kernel_size=(1, 1), stride=(1, 1))\n",
      "  (z_log_var_layer): Conv2d(32, 3, kernel_size=(1, 1), stride=(1, 1))\n",
      "  (decoder): Sequential(\n",
      "    (0): ConvTranspose2d(3, 32, kernel_size=(7, 7), stride=(2, 2), padding=(3, 3), output_padding=(1, 1))\n",
      "    (1): BatchNorm2d(32, eps=1e-05, momentum=0.1, affine=True, track_running_stats=True)\n",
      "    (2): Tanh()\n",
      "    (3): ConvTranspose2d(32, 32, kernel_size=(7, 7), stride=(2, 2), padding=(3, 3), output_padding=(1, 1))\n",
      "    (4): BatchNorm2d(32, eps=1e-05, momentum=0.1, affine=True, track_running_stats=True)\n",
      "    (5): Tanh()\n",
      "    (6): Conv2d(32, 3, kernel_size=(1, 1), stride=(1, 1))\n",
      "    (7): Tanh()\n",
      "  )\n",
      ")\n"
     ]
    }
   ],
   "source": [
    "vae = VAE().to(device)\n",
    "optimizer = optim.Adam(vae.parameters(), lr=0.001)\n",
    "print(vae)"
   ]
  },
  {
   "cell_type": "code",
   "execution_count": 7,
   "metadata": {},
   "outputs": [
    {
     "data": {
      "text/plain": [
       "==========================================================================================\n",
       "Layer (type:depth-idx)                   Output Shape              Param #\n",
       "==========================================================================================\n",
       "VAE                                      [256, 3, 32, 32]          --\n",
       "├─Sequential: 1-1                        [256, 32, 8, 8]           --\n",
       "│    └─Conv2d: 2-1                       [256, 32, 16, 16]         4,736\n",
       "│    └─BatchNorm2d: 2-2                  [256, 32, 16, 16]         64\n",
       "│    └─Tanh: 2-3                         [256, 32, 16, 16]         --\n",
       "│    └─Conv2d: 2-4                       [256, 32, 8, 8]           50,208\n",
       "│    └─BatchNorm2d: 2-5                  [256, 32, 8, 8]           64\n",
       "│    └─Tanh: 2-6                         [256, 32, 8, 8]           --\n",
       "├─Conv2d: 1-2                            [256, 3, 8, 8]            99\n",
       "├─Conv2d: 1-3                            [256, 3, 8, 8]            99\n",
       "├─Sequential: 1-4                        [256, 3, 32, 32]          --\n",
       "│    └─ConvTranspose2d: 2-7              [256, 32, 16, 16]         4,736\n",
       "│    └─BatchNorm2d: 2-8                  [256, 32, 16, 16]         64\n",
       "│    └─Tanh: 2-9                         [256, 32, 16, 16]         --\n",
       "│    └─ConvTranspose2d: 2-10             [256, 32, 32, 32]         50,208\n",
       "│    └─BatchNorm2d: 2-11                 [256, 32, 32, 32]         64\n",
       "│    └─Tanh: 2-12                        [256, 32, 32, 32]         --\n",
       "│    └─Conv2d: 2-13                      [256, 3, 32, 32]          99\n",
       "│    └─Tanh: 2-14                        [256, 3, 32, 32]          --\n",
       "==========================================================================================\n",
       "Total params: 110,441\n",
       "Trainable params: 110,441\n",
       "Non-trainable params: 0\n",
       "Total mult-adds (G): 14.63\n",
       "==========================================================================================\n",
       "Input size (MB): 3.15\n",
       "Forward/backward pass size (MB): 216.79\n",
       "Params size (MB): 0.44\n",
       "Estimated Total Size (MB): 220.38\n",
       "=========================================================================================="
      ]
     },
     "execution_count": 7,
     "metadata": {},
     "output_type": "execute_result"
    }
   ],
   "source": [
    "from torchinfo import summary\n",
    "summary(vae, input_size=(256, 3, 32, 32))"
   ]
  },
  {
   "cell_type": "markdown",
   "metadata": {},
   "source": [
    "Step7: Training"
   ]
  },
  {
   "cell_type": "code",
   "execution_count": 11,
   "metadata": {},
   "outputs": [
    {
     "name": "stdout",
     "output_type": "stream",
     "text": [
      "Epoch [1/200] Loss: 0.04045039578816112\n",
      "Epoch [2/200] Loss: 0.03861458337276566\n",
      "Epoch [3/200] Loss: 0.03735891564236003\n",
      "Epoch [4/200] Loss: 0.0367421101854772\n",
      "Epoch [5/200] Loss: 0.035973528761188596\n",
      "Epoch [6/200] Loss: 0.0355696863285741\n",
      "Epoch [7/200] Loss: 0.035229245980023124\n",
      "Epoch [8/200] Loss: 0.035000543794309606\n",
      "Epoch [9/200] Loss: 0.03471293783157456\n",
      "Epoch [10/200] Loss: 0.03451428493979026\n",
      "Epoch [11/200] Loss: 0.03444605073606481\n",
      "Epoch [12/200] Loss: 0.03431861406686355\n",
      "Epoch [13/200] Loss: 0.03427701124123165\n",
      "Epoch [14/200] Loss: 0.03405516281039739\n",
      "Epoch [15/200] Loss: 0.03400606578406023\n",
      "Epoch [16/200] Loss: 0.03389471946094109\n",
      "Epoch [17/200] Loss: 0.03390193460699247\n",
      "Epoch [18/200] Loss: 0.03385069953011615\n",
      "Epoch [19/200] Loss: 0.03367500047066382\n",
      "Epoch [20/200] Loss: 0.03380983001647555\n",
      "Epoch [21/200] Loss: 0.03361587716760684\n",
      "Epoch [22/200] Loss: 0.03353437319473953\n",
      "Epoch [23/200] Loss: 0.03344244546047887\n",
      "Epoch [24/200] Loss: 0.03345876312529554\n",
      "Epoch [25/200] Loss: 0.03347617102672859\n",
      "Epoch [26/200] Loss: 0.03329198826484534\n",
      "Epoch [27/200] Loss: 0.033377437776296724\n",
      "Epoch [28/200] Loss: 0.03346167130357757\n",
      "Epoch [29/200] Loss: 0.033306402477378746\n",
      "Epoch [30/200] Loss: 0.03331530740370556\n",
      "Epoch [31/200] Loss: 0.03334791568697107\n",
      "Epoch [32/200] Loss: 0.03312635505381895\n",
      "Epoch [33/200] Loss: 0.03312835223706705\n",
      "Epoch [34/200] Loss: 0.03319112310300068\n",
      "Epoch [35/200] Loss: 0.03317182398952392\n",
      "Epoch [36/200] Loss: 0.03307564861654323\n",
      "Epoch [37/200] Loss: 0.03305120336614093\n",
      "Epoch [38/200] Loss: 0.033194945992103646\n",
      "Epoch [39/200] Loss: 0.03296739300142745\n",
      "Epoch [40/200] Loss: 0.03303635580351158\n",
      "Epoch [41/200] Loss: 0.03308738249221018\n",
      "Epoch [42/200] Loss: 0.03295553977392158\n",
      "Epoch [43/200] Loss: 0.03297289322149389\n",
      "Epoch [44/200] Loss: 0.03290380702867192\n",
      "Epoch [45/200] Loss: 0.03284038449352493\n",
      "Epoch [46/200] Loss: 0.03287003073385175\n",
      "Epoch [47/200] Loss: 0.03286990342775778\n",
      "Epoch [48/200] Loss: 0.0327989391089246\n",
      "Epoch [49/200] Loss: 0.03296122422479853\n",
      "Epoch [50/200] Loss: 0.03289248595698452\n",
      "Epoch [51/200] Loss: 0.032805406317418934\n",
      "Epoch [52/200] Loss: 0.032805650200390696\n",
      "Epoch [53/200] Loss: 0.032807762516016255\n",
      "Epoch [54/200] Loss: 0.03279524052287547\n",
      "Epoch [55/200] Loss: 0.032732440890478234\n",
      "Epoch [56/200] Loss: 0.03279354011792005\n",
      "Epoch [57/200] Loss: 0.032679687054561715\n",
      "Epoch [58/200] Loss: 0.032782682388716816\n",
      "Epoch [59/200] Loss: 0.03272070792712727\n",
      "Epoch [60/200] Loss: 0.032790230701164325\n",
      "Epoch [61/200] Loss: 0.03269066055286295\n",
      "Epoch [62/200] Loss: 0.03261559568725678\n",
      "Epoch [63/200] Loss: 0.03262945743543761\n",
      "Epoch [64/200] Loss: 0.03265284073101927\n",
      "Epoch [65/200] Loss: 0.032691186474522155\n",
      "Epoch [66/200] Loss: 0.03258415823802352\n",
      "Epoch [67/200] Loss: 0.03257443486921945\n",
      "Epoch [68/200] Loss: 0.032575394597132594\n",
      "Epoch [69/200] Loss: 0.03258454644748447\n",
      "Epoch [70/200] Loss: 0.032529923418650825\n",
      "Epoch [71/200] Loss: 0.03263077448711407\n",
      "Epoch [72/200] Loss: 0.03261064223907128\n",
      "Epoch [73/200] Loss: 0.03261882363229382\n",
      "Epoch [74/200] Loss: 0.03256149089191945\n",
      "Epoch [75/200] Loss: 0.032548880271081417\n",
      "Epoch [76/200] Loss: 0.03251937033646569\n",
      "Epoch [77/200] Loss: 0.03245877143831886\n",
      "Epoch [78/200] Loss: 0.032450597742762495\n",
      "Epoch [79/200] Loss: 0.032469991822631994\n",
      "Epoch [80/200] Loss: 0.0324309726853912\n",
      "Epoch [81/200] Loss: 0.03244715395896715\n",
      "Epoch [82/200] Loss: 0.032503665538922866\n",
      "Epoch [83/200] Loss: 0.032458074352875045\n",
      "Epoch [84/200] Loss: 0.032522840919543286\n",
      "Epoch [85/200] Loss: 0.03241316977964372\n",
      "Epoch [86/200] Loss: 0.032407976192783336\n",
      "Epoch [87/200] Loss: 0.032464168395619004\n",
      "Epoch [88/200] Loss: 0.03248176762682139\n",
      "Epoch [89/200] Loss: 0.032360279809075354\n",
      "Epoch [90/200] Loss: 0.032360843933966696\n",
      "Epoch [91/200] Loss: 0.03236809017478812\n",
      "Epoch [92/200] Loss: 0.03240560541613674\n",
      "Epoch [93/200] Loss: 0.032468530957644084\n",
      "Epoch [94/200] Loss: 0.03231515366660089\n",
      "Epoch [95/200] Loss: 0.03241743587375599\n",
      "Epoch [96/200] Loss: 0.03244544971468193\n",
      "Epoch [97/200] Loss: 0.032349096810711284\n",
      "Epoch [98/200] Loss: 0.03246814213997247\n",
      "Epoch [99/200] Loss: 0.032412884709406266\n",
      "Epoch [100/200] Loss: 0.03231357077934912\n",
      "Epoch [101/200] Loss: 0.03231857202909127\n",
      "Epoch [102/200] Loss: 0.03238335998766884\n",
      "Epoch [103/200] Loss: 0.032322533856317094\n",
      "Epoch [104/200] Loss: 0.032338917521493774\n",
      "Epoch [105/200] Loss: 0.03244839510785378\n",
      "Epoch [106/200] Loss: 0.03231377056704796\n",
      "Epoch [107/200] Loss: 0.03226611937149143\n",
      "Epoch [108/200] Loss: 0.03229755640257986\n",
      "Epoch [109/200] Loss: 0.03229431268207881\n",
      "Epoch [110/200] Loss: 0.03233904333557097\n",
      "Epoch [111/200] Loss: 0.03234288664724754\n",
      "Epoch [112/200] Loss: 0.032216028785523106\n",
      "Epoch [113/200] Loss: 0.03220722830037073\n",
      "Epoch [114/200] Loss: 0.03223726223698076\n",
      "Epoch [115/200] Loss: 0.03223343164070833\n",
      "Epoch [116/200] Loss: 0.03222464216987089\n",
      "Epoch [117/200] Loss: 0.03229155100653974\n",
      "Epoch [118/200] Loss: 0.03221187518187323\n",
      "Epoch [119/200] Loss: 0.03221143631986818\n",
      "Epoch [120/200] Loss: 0.03225716089411658\n",
      "Epoch [121/200] Loss: 0.032275348540623576\n",
      "Epoch [122/200] Loss: 0.03228684057652646\n",
      "Epoch [123/200] Loss: 0.032156656021062206\n",
      "Epoch [124/200] Loss: 0.032242626417428255\n",
      "Epoch [125/200] Loss: 0.03226393866067638\n",
      "Epoch [126/200] Loss: 0.0321594255653267\n",
      "Epoch [127/200] Loss: 0.03216891506762833\n",
      "Epoch [128/200] Loss: 0.03213755456654697\n",
      "Epoch [129/200] Loss: 0.032241793919582755\n",
      "Epoch [130/200] Loss: 0.03214958675053655\n",
      "Epoch [131/200] Loss: 0.032152183857575366\n",
      "Epoch [132/200] Loss: 0.032133066332994065\n",
      "Epoch [133/200] Loss: 0.03216139151125538\n",
      "Epoch [134/200] Loss: 0.032165411650678336\n",
      "Epoch [135/200] Loss: 0.032099632318226656\n",
      "Epoch [136/200] Loss: 0.032171651445405215\n",
      "Epoch [137/200] Loss: 0.032112128652480185\n",
      "Epoch [138/200] Loss: 0.03212228036314553\n",
      "Epoch [139/200] Loss: 0.032161441070920956\n",
      "Epoch [140/200] Loss: 0.032169335787849765\n",
      "Epoch [141/200] Loss: 0.03216939105899358\n",
      "Epoch [142/200] Loss: 0.032169830263117136\n",
      "Epoch [143/200] Loss: 0.03205144343593595\n",
      "Epoch [144/200] Loss: 0.03211453526603932\n",
      "Epoch [145/200] Loss: 0.032092776387093624\n",
      "Epoch [146/200] Loss: 0.03211384805451546\n",
      "Epoch [147/200] Loss: 0.03206576243499104\n",
      "Epoch [148/200] Loss: 0.03209911285880573\n",
      "Epoch [149/200] Loss: 0.03209839371622217\n",
      "Epoch [150/200] Loss: 0.03208337594964066\n",
      "Epoch [151/200] Loss: 0.03205876465772792\n",
      "Epoch [152/200] Loss: 0.03209696193130649\n",
      "Epoch [153/200] Loss: 0.03206655676761756\n",
      "Epoch [154/200] Loss: 0.03207977244402377\n",
      "Epoch [155/200] Loss: 0.032113220884787796\n",
      "Epoch [156/200] Loss: 0.032093847284511645\n",
      "Epoch [157/200] Loss: 0.03211208827299427\n",
      "Epoch [158/200] Loss: 0.03205186130516991\n",
      "Epoch [159/200] Loss: 0.03201420041637457\n",
      "Epoch [160/200] Loss: 0.03204317197051584\n",
      "Epoch [161/200] Loss: 0.032022447125720124\n",
      "Epoch [162/200] Loss: 0.03202856918416765\n",
      "Epoch [163/200] Loss: 0.03207324126887382\n",
      "Epoch [164/200] Loss: 0.0320778841209807\n",
      "Epoch [165/200] Loss: 0.03204160069628638\n",
      "Epoch [166/200] Loss: 0.032106613949397386\n",
      "Epoch [167/200] Loss: 0.032025932267840417\n",
      "Epoch [168/200] Loss: 0.03204956244943397\n",
      "Epoch [169/200] Loss: 0.0320623734756848\n",
      "Epoch [170/200] Loss: 0.03204630244979445\n",
      "Epoch [171/200] Loss: 0.03202096514441833\n",
      "Epoch [172/200] Loss: 0.032016215883955666\n",
      "Epoch [173/200] Loss: 0.031981700784241666\n",
      "Epoch [174/200] Loss: 0.03197584023737177\n",
      "Epoch [175/200] Loss: 0.03193989457866671\n",
      "Epoch [176/200] Loss: 0.0319859598174083\n",
      "Epoch [177/200] Loss: 0.03207853581870393\n",
      "Epoch [178/200] Loss: 0.03203795838872997\n",
      "Epoch [179/200] Loss: 0.03201174987860176\n",
      "Epoch [180/200] Loss: 0.03201602629328869\n",
      "Epoch [181/200] Loss: 0.03196187514089504\n",
      "Epoch [182/200] Loss: 0.03205965139085845\n",
      "Epoch [183/200] Loss: 0.03197632557047265\n",
      "Epoch [184/200] Loss: 0.03201559893026644\n",
      "Epoch [185/200] Loss: 0.03202061258180409\n",
      "Epoch [186/200] Loss: 0.03194366062858275\n",
      "Epoch [187/200] Loss: 0.03190326378015535\n",
      "Epoch [188/200] Loss: 0.03197525115683675\n",
      "Epoch [189/200] Loss: 0.0319660544794585\n",
      "Epoch [190/200] Loss: 0.03198114110689078\n",
      "Epoch [191/200] Loss: 0.03194242438339457\n",
      "Epoch [192/200] Loss: 0.03195986584095018\n",
      "Epoch [193/200] Loss: 0.03194017871758159\n",
      "Epoch [194/200] Loss: 0.032059905499371946\n",
      "Epoch [195/200] Loss: 0.031962778989453704\n",
      "Epoch [196/200] Loss: 0.031938517143075565\n",
      "Epoch [197/200] Loss: 0.031968649134648086\n",
      "Epoch [198/200] Loss: 0.03195854728775365\n",
      "Epoch [199/200] Loss: 0.031951808199590565\n",
      "Epoch [200/200] Loss: 0.03192131296370407\n",
      "Finished Training\n"
     ]
    }
   ],
   "source": [
    "# Training loop\n",
    "num_epochs = 200\n",
    "for epoch in range(num_epochs):\n",
    "    running_loss = 0\n",
    "    for data in train_loader:\n",
    "        inputs, _ = data\n",
    "        inputs = inputs.to(device)\n",
    "        optimizer.zero_grad()\n",
    "        outputs, z_mean, z_log_var = vae(inputs)\n",
    "        loss = vae_loss(outputs, inputs, z_mean, z_log_var)\n",
    "        loss.backward()\n",
    "        optimizer.step()\n",
    "        running_loss += loss.item()\n",
    "    print(f'Epoch [{epoch + 1}/{num_epochs}] Loss: {running_loss / len(train_loader)}')\n",
    "\n",
    "print('Finished Training')"
   ]
  },
  {
   "cell_type": "markdown",
   "metadata": {},
   "source": [
    "Step8: Plotting Results"
   ]
  },
  {
   "cell_type": "code",
   "execution_count": 15,
   "metadata": {},
   "outputs": [
    {
     "data": {
      "image/png": "[encoded data removed]",
      "text/plain": [
       "<Figure size 600x600 with 9 Axes>"
      ]
     },
     "metadata": {},
     "output_type": "display_data"
    }
   ],
   "source": [
    "n = 3\n",
    "plt.figure(figsize=(6, 6))\n",
    "for i in range(n):\n",
    "    # Display original image\n",
    "    ax = plt.subplot(3, n, i + 1)\n",
    "    plt.title(\"Original\")\n",
    "    plt.imshow((inputs[i] * 0.5 + 0.5).permute(1, 2, 0).cpu().numpy())\n",
    "    ax.get_xaxis().set_visible(False)\n",
    "    ax.get_yaxis().set_visible(False)\n",
    "    plt.axis(\"off\")\n",
    "\n",
    "    # Display reconstructed image\n",
    "    bx = plt.subplot(3, n, i + n + 1)\n",
    "    plt.title(\"Reconstructed\")\n",
    "    plt.imshow((outputs[i] * 0.5 + 0.5).permute(1, 2, 0).detach().cpu().numpy())\n",
    "    ax.get_xaxis().set_visible(False)\n",
    "    ax.get_yaxis().set_visible(False)\n",
    "    plt.axis(\"off\")\n",
    "\n",
    "    # Display difference between original and reconstructed\n",
    "    ax = plt.subplot(3, n, i + 2 * n + 1)\n",
    "    plt.title(\"Orig - Reconstruct\")\n",
    "    residual = torch.abs(inputs[i] - outputs[i])\n",
    "    residual = (residual / residual.max()).permute(1, 2, 0).detach().cpu().numpy()\n",
    "    plt.imshow(residual)\n",
    "    ax.get_xaxis().set_visible(False)\n",
    "    ax.get_yaxis().set_visible(False)\n",
    "    plt.axis(\"off\")\n",
    "\n",
    "plt.show()"
   ]
  },
  {
   "cell_type": "code",
   "execution_count": 15,
   "metadata": {},
   "outputs": [
    {
     "name": "stdout",
     "output_type": "stream",
     "text": [
      "Files already downloaded and verified\n"
     ]
    }
   ],
   "source": [
    "# Testing\n",
    "vae.eval()\n",
    "test_dataset = datasets.CIFAR10(root='./data', train=False, transform=transform, download=True)\n",
    "test_loader = DataLoader(test_dataset, batch_size=100, shuffle=False)\n",
    "\n",
    "with torch.no_grad():\n",
    "    for data, _ in test_loader:\n",
    "        data = data.to(device)\n",
    "        reconstructed, _, _ = vae(data)\n",
    "        break"
   ]
  },
  {
   "cell_type": "code",
   "execution_count": 16,
   "metadata": {},
   "outputs": [
    {
     "name": "stderr",
     "output_type": "stream",
     "text": [
      "Clipping input data to the valid range for imshow with RGB data ([0..1] for floats or [0..255] for integers).\n",
      "Clipping input data to the valid range for imshow with RGB data ([0..1] for floats or [0..255] for integers).\n",
      "Clipping input data to the valid range for imshow with RGB data ([0..1] for floats or [0..255] for integers).\n",
      "Clipping input data to the valid range for imshow with RGB data ([0..1] for floats or [0..255] for integers).\n",
      "Clipping input data to the valid range for imshow with RGB data ([0..1] for floats or [0..255] for integers).\n",
      "Clipping input data to the valid range for imshow with RGB data ([0..1] for floats or [0..255] for integers).\n"
     ]
    },
    {
     "data": {
      "image/png": "[encoded data removed]",
      "text/plain": [
       "<Figure size 600x600 with 6 Axes>"
      ]
     },
     "metadata": {},
     "output_type": "display_data"
    }
   ],
   "source": [
    "# Plot original and reconstructed images\n",
    "n = 3\n",
    "plt.figure(figsize=(6, 6))\n",
    "for i in range(n):\n",
    "    plt.subplot(3, n, i + 1)\n",
    "    plt.title(\"Original\")\n",
    "    plt.imshow(inputs[i].cpu().numpy().transpose(1, 2, 0))\n",
    "    plt.axis(\"off\")\n",
    "\n",
    "    plt.subplot(3, n, i + n + 1)\n",
    "    plt.title(\"Reconstructed\")\n",
    "    plt.imshow(reconstructed[i].cpu().numpy().transpose(1, 2, 0))\n",
    "    plt.axis(\"off\")\n",
    "\n",
    "plt.show()"
   ]
  }
 ],
 "metadata": {
  "kernelspec": {
   "display_name": "shujaatplay",
   "language": "python",
   "name": "python3"
  },
  "language_info": {
   "codemirror_mode": {
    "name": "ipython",
    "version": 3
   },
   "file_extension": ".py",
   "mimetype": "text/x-python",
   "name": "python",
   "nbconvert_exporter": "python",
   "pygments_lexer": "ipython3",
   "version": "3.7.13"
  },
  "orig_nbformat": 4
 },
 "nbformat": 4,
 "nbformat_minor": 2
}
